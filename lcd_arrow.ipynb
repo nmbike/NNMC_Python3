{
 "cells": [
  {
   "cell_type": "markdown",
   "metadata": {},
   "source": [
    "# LCD Arrows "
   ]
  },
  {
   "cell_type": "markdown",
   "metadata": {},
   "source": [
    "In this notebook, we will write various arrows to the OLED screen"
   ]
  },
  {
   "cell_type": "markdown",
   "metadata": {},
   "source": [
    "### IMPORTANT!! \n",
    "#### The following code will disable your LED printout showing the IP address of your robot. You MUST run the last cell in this notebook to reenable your LED operations. If something happens during the operation of this notebook, simply reboot your robot, return to this notebook and run the last cell to reenable the functionality of your LED"
   ]
  },
  {
   "cell_type": "code",
   "execution_count": 1,
   "metadata": {},
   "outputs": [],
   "source": [
    "import os\n",
    "import getpass"
   ]
  },
  {
   "cell_type": "code",
   "execution_count": 11,
   "metadata": {},
   "outputs": [
    {
     "name": "stdin",
     "output_type": "stream",
     "text": [
      " ······\n"
     ]
    },
    {
     "data": {
      "text/plain": [
       "0"
      ]
     },
     "execution_count": 11,
     "metadata": {},
     "output_type": "execute_result"
    }
   ],
   "source": [
    "password = getpass.getpass()\n",
    "os.system('echo %s | sudo -S mv  /usr/local/lib/python3.6/dist-packages/jetbot-0.4.0-py3.6.egg/jetbot/apps/stats.py /usr/local/lib/python3.6/dist-packages/jetbot-0.4.0-py3.6.egg/jetbot/apps/stats.py.orig ' % (password))\n",
    "#os.system('echo %s | sudo -S reboot ' % (password))"
   ]
  },
  {
   "cell_type": "markdown",
   "metadata": {},
   "source": [
    "We'll also create our robot instance which we'll need to write to the LCD screen."
   ]
  },
  {
   "cell_type": "code",
   "execution_count": 2,
   "metadata": {},
   "outputs": [],
   "source": [
    "from jetbot import Robot\n",
    "\n",
    "robot = Robot()"
   ]
  },
  {
   "cell_type": "code",
   "execution_count": null,
   "metadata": {},
   "outputs": [],
   "source": [
    "robot.stop()"
   ]
  },
  {
   "cell_type": "markdown",
   "metadata": {},
   "source": [
    "#### Now create LED functions to show which direction our robot is steering. These will be used to test how the robot is interpreting it's scene while remaining stationary."
   ]
  },
  {
   "cell_type": "code",
   "execution_count": 3,
   "metadata": {},
   "outputs": [],
   "source": [
    "import qwiic_micro_oled\n",
    "cyclops = qwiic_micro_oled.QwiicMicroOled()"
   ]
  },
  {
   "cell_type": "code",
   "execution_count": 4,
   "metadata": {},
   "outputs": [],
   "source": [
    "def arrow_right():\n",
    "    cyclops.begin()\n",
    "    cyclops.clear(cyclops.PAGE)\n",
    "\n",
    "    cyclops.pixel(62,24)\n",
    "    cyclops.line_v(61,23,3)\n",
    "    cyclops.line_v(60,22,5)\n",
    "    cyclops.line_v(59,21,7)\n",
    "    cyclops.line_v(58,20,9)\n",
    "    cyclops.line_v(57,19,11)\n",
    "    cyclops.line_v(56,18,13)\n",
    "    cyclops.line_v(55,17,15)\n",
    "    cyclops.line_v(54,16,17)\n",
    "    cyclops.line_v(53,15,19)\n",
    "    cyclops.line_v(52,14,21)\n",
    "    cyclops.line_v(51,13,23)\n",
    "    cyclops.line_v(50,12,25)\n",
    "    cyclops.line_v(49,11,27)\n",
    "    cyclops.line_v(48,10,29)\n",
    "    cyclops.line_v(47,9,31)\n",
    "    cyclops.line_v(46,8,33)\n",
    "    cyclops.line_v(45,7,35)\n",
    "    cyclops.line_v(44,6,37)\n",
    "\n",
    "    cyclops.rect_fill(3,16,41,16)\n",
    "\n",
    "    cyclops.display()\n",
    "\n",
    "def arrow_left():\n",
    "    cyclops.begin()\n",
    "    cyclops.clear(cyclops.PAGE)\n",
    "\n",
    "    cyclops.pixel(2,24)\n",
    "    cyclops.line_v(3,23,3)\n",
    "    cyclops.line_v(4,22,5)\n",
    "    cyclops.line_v(5,21,7)\n",
    "    cyclops.line_v(6,20,9)\n",
    "    cyclops.line_v(7,19,11)\n",
    "    cyclops.line_v(8,18,13)\n",
    "    cyclops.line_v(9,17,15)\n",
    "    cyclops.line_v(10,16,17)\n",
    "    cyclops.line_v(11,15,19)\n",
    "    cyclops.line_v(12,14,21)\n",
    "    cyclops.line_v(13,13,23)\n",
    "    cyclops.line_v(14,12,25)\n",
    "    cyclops.line_v(15,11,27)\n",
    "    cyclops.line_v(16,10,29)\n",
    "    cyclops.line_v(17,9,31)\n",
    "    cyclops.line_v(18,8,33)\n",
    "    cyclops.line_v(19,7,35)\n",
    "    cyclops.line_v(20,6,37)\n",
    "\n",
    "    cyclops.rect_fill(20,16,41,16)\n",
    "\n",
    "    cyclops.display()\n",
    "    \n",
    "def arrow_straight():\n",
    "    cyclops.begin()\n",
    "    cyclops.clear(cyclops.PAGE)\n",
    "\n",
    "    cyclops.pixel(62,24)\n",
    "    cyclops.line_v(61,23,3)\n",
    "    cyclops.line_v(60,22,5)\n",
    "    cyclops.line_v(59,21,7)\n",
    "    cyclops.line_v(58,20,9)\n",
    "    cyclops.line_v(57,19,11)\n",
    "    cyclops.line_v(56,18,13)\n",
    "    cyclops.line_v(55,17,15)\n",
    "    cyclops.line_v(54,16,17)\n",
    "    cyclops.line_v(53,15,19)\n",
    "    cyclops.line_v(52,14,21)\n",
    "    cyclops.line_v(51,13,23)\n",
    "    cyclops.line_v(50,12,25)\n",
    "    cyclops.line_v(49,11,27)\n",
    "    cyclops.line_v(48,10,29)\n",
    "    cyclops.line_v(47,9,31)\n",
    "    cyclops.line_v(46,8,33)\n",
    "    cyclops.line_v(45,7,35)\n",
    "    cyclops.line_v(44,6,37)\n",
    "    \n",
    "    cyclops.pixel(2,24)\n",
    "    cyclops.line_v(3,23,3)\n",
    "    cyclops.line_v(4,22,5)\n",
    "    cyclops.line_v(5,21,7)\n",
    "    cyclops.line_v(6,20,9)\n",
    "    cyclops.line_v(7,19,11)\n",
    "    cyclops.line_v(8,18,13)\n",
    "    cyclops.line_v(9,17,15)\n",
    "    cyclops.line_v(10,16,17)\n",
    "    cyclops.line_v(11,15,19)\n",
    "    cyclops.line_v(12,14,21)\n",
    "    cyclops.line_v(13,13,23)\n",
    "    cyclops.line_v(14,12,25)\n",
    "    cyclops.line_v(15,11,27)\n",
    "    cyclops.line_v(16,10,29)\n",
    "    cyclops.line_v(17,9,31)\n",
    "    cyclops.line_v(18,8,33)\n",
    "    cyclops.line_v(19,7,35)\n",
    "    cyclops.line_v(20,6,37)\n",
    "    \n",
    "    cyclops.rect_fill(20,16,24,16)\n",
    "    \n",
    "    cyclops.display()\n",
    "\n"
   ]
  },
  {
   "cell_type": "raw",
   "metadata": {},
   "source": []
  },
  {
   "cell_type": "code",
   "execution_count": 5,
   "metadata": {},
   "outputs": [],
   "source": [
    "arrow_straight()"
   ]
  },
  {
   "cell_type": "code",
   "execution_count": 6,
   "metadata": {},
   "outputs": [],
   "source": [
    "arrow_right()"
   ]
  },
  {
   "cell_type": "code",
   "execution_count": 7,
   "metadata": {},
   "outputs": [],
   "source": [
    "arrow_left()"
   ]
  },
  {
   "cell_type": "markdown",
   "metadata": {},
   "source": [
    "### IMPORTANT!! The following cell must be exectuted in order to return functionality of your LED screen. It should not be necessary to reboot your robot."
   ]
  },
  {
   "cell_type": "code",
   "execution_count": 9,
   "metadata": {},
   "outputs": [
    {
     "name": "stdin",
     "output_type": "stream",
     "text": [
      " ······\n"
     ]
    },
    {
     "data": {
      "text/plain": [
       "256"
      ]
     },
     "execution_count": 9,
     "metadata": {},
     "output_type": "execute_result"
    }
   ],
   "source": [
    "password = getpass.getpass()\n",
    "os.system('echo %s | sudo -S mv  /usr/local/lib/python3.6/dist-packages/jetbot-0.4.0-py3.6.egg/jetbot/apps/stats.py.orig /usr/local/lib/python3.6/dist-packages/jetbot-0.4.0-py3.6.egg/jetbot/apps/stats.py ' % (password))"
   ]
  },
  {
   "cell_type": "markdown",
   "metadata": {},
   "source": [
    "### Conclusion\n",
    "That's it for this debugging demo! "
   ]
  },
  {
   "cell_type": "code",
   "execution_count": null,
   "metadata": {},
   "outputs": [],
   "source": []
  }
 ],
 "metadata": {
  "kernelspec": {
   "display_name": "Python 3",
   "language": "python",
   "name": "python3"
  },
  "language_info": {
   "codemirror_mode": {
    "name": "ipython",
    "version": 3
   },
   "file_extension": ".py",
   "mimetype": "text/x-python",
   "name": "python",
   "nbconvert_exporter": "python",
   "pygments_lexer": "ipython3",
   "version": "3.6.9"
  }
 },
 "nbformat": 4,
 "nbformat_minor": 4
}
